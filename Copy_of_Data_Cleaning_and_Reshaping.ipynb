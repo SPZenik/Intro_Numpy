{
  "cells": [
    {
      "cell_type": "markdown",
      "metadata": {
        "id": "view-in-github",
        "colab_type": "text"
      },
      "source": [
        "<a href=\"https://colab.research.google.com/github/SPZenik/Intro_Numpy/blob/SPZenik-patch-1/Copy_of_Data_Cleaning_and_Reshaping.ipynb\" target=\"_parent\"><img src=\"https://colab.research.google.com/assets/colab-badge.svg\" alt=\"Open In Colab\"/></a>"
      ]
    },
    {
      "cell_type": "markdown",
      "metadata": {
        "id": "GwAGq7X_9FNL"
      },
      "source": [
        "**DATA CLEANING**\n",
        "Learning to clean a dataset\n",
        "Start by Exploring your data.\n",
        "1. Load and View Data"
      ]
    },
    {
      "cell_type": "code",
      "execution_count": 2,
      "metadata": {
        "id": "4MGvzNiL9FNM",
        "outputId": "1e35e8d8-7ba3-410c-e628-9e9a49460f4b",
        "colab": {
          "base_uri": "https://localhost:8080/"
        }
      },
      "outputs": [
        {
          "output_type": "stream",
          "name": "stdout",
          "text": [
            "       Job #  Doc #        Borough       House #  \\\n",
            "0  121577873      2      MANHATTAN  386            \n",
            "1  520129502      1  STATEN ISLAND  107            \n",
            "2  121601560      1      MANHATTAN  63             \n",
            "3  121601203      1      MANHATTAN  48             \n",
            "4  121601338      1      MANHATTAN  45             \n",
            "\n",
            "                        Street Name  Block  Lot    Bin # Job Type Job Status  \\\n",
            "0  PARK AVENUE SOUTH                   857   38  1016890       A2          D   \n",
            "1  KNOX PLACE                          342    1  5161350       A3          A   \n",
            "2  WEST 131 STREET                    1729    9  1053831       A2          Q   \n",
            "3  WEST 25TH STREET                    826   69  1015610       A2          D   \n",
            "4  WEST 29 STREET                      831    7  1015754       A3          D   \n",
            "\n",
            "   ...               Owner's Last Name             Owner's Business Name  \\\n",
            "0  ...  MIGLIORE                        MACKLOWE MANAGEMENT                \n",
            "1  ...  BLUMENBERG                      NA                                 \n",
            "2  ...  MARKOWITZ                       635 RIVERSIDE DRIVE NY LLC         \n",
            "3  ...  CASALE                          48 W 25 ST LLC C/O BERNSTEIN       \n",
            "4  ...  LEE                             HYUNG-HYANG REALTY CORP            \n",
            "\n",
            "  Owner's House Number          Owner'sHouse Street Name            City   \\\n",
            "0         126           EAST 56TH STREET                  NEW YORK          \n",
            "1         107           KNOX PLACE                        STATEN ISLAND     \n",
            "2         619           WEST 54TH STREET                  NEW YORK          \n",
            "3         150           WEST 30TH STREET                  NEW YORK          \n",
            "4         614           8 AVENUE                          NEW YORK          \n",
            "\n",
            "  State    Zip Owner'sPhone #  \\\n",
            "0    NY  10222     2125545837   \n",
            "1    NY  10314     3477398892   \n",
            "2    NY  10016     2127652555   \n",
            "3    NY  10001     2125941414   \n",
            "4    NY  10001     2019881222   \n",
            "\n",
            "                                     Job Description              DOBRunDate  \n",
            "0  GENERAL MECHANICAL & PLUMBING MODIFICATIONS AS...  04/26/2013 12:00:00 AM  \n",
            "1  BUILDERS PAVEMENT PLAN 143 LF.                ...  04/26/2013 12:00:00 AM  \n",
            "2  GENERAL CONSTRUCTION TO INCLUDE NEW PARTITIONS...  04/26/2013 12:00:00 AM  \n",
            "3  STRUCTURAL CHANGES ON THE 5TH FLOOR (MOONDOG E...  04/26/2013 12:00:00 AM  \n",
            "4  FILING HEREWITH FACADE REPAIR PLANS. WORK SCOP...  04/26/2013 12:00:00 AM  \n",
            "\n",
            "[5 rows x 82 columns]\n",
            "           Job #  Doc #        Borough       House #  \\\n",
            "12841  520143988      1  STATEN ISLAND  8              \n",
            "12842  121613833      1      MANHATTAN  724            \n",
            "12843  121681260      1      MANHATTAN  350            \n",
            "12844  320771704      1       BROOKLYN  499            \n",
            "12845  520143951      1  STATEN ISLAND  1755           \n",
            "\n",
            "                            Street Name  Block  Lot    Bin # Job Type  \\\n",
            "12841  NOEL STREET                        5382   20  5069722       A2   \n",
            "12842  10 AVENUE                          1059    4  1082503       A2   \n",
            "12843  MANHATTAN AVE.                     1848   31  1055849       A2   \n",
            "12844  UNION STREET                        431   43  3007185       A2   \n",
            "12845  RICHMOND ROAD                       887   28  5022931       A2   \n",
            "\n",
            "      Job Status  ...               Owner's Last Name  \\\n",
            "12841          D  ...  MALITO                           \n",
            "12842          D  ...  CROMAN                           \n",
            "12843          A  ...  ARYEH                            \n",
            "12844          D  ...  WIGGINS                          \n",
            "12845          D  ...  CAMBRIA                          \n",
            "\n",
            "                  Owner's Business Name Owner's House Number  \\\n",
            "12841  GENO MALITO                              8              \n",
            "12842  722-724 10TH AVENUE HOLDING LLC          632            \n",
            "12843  DG UWS LLC                               619            \n",
            "12844  N/A                                      77             \n",
            "12845  RONALD CAMBRIA                           1755           \n",
            "\n",
            "               Owner'sHouse Street Name            City  State    Zip  \\\n",
            "12841  NOEL STREET                       STATEN ISLAND      NY  10312   \n",
            "12842  BROADWAY                          NEW YORK           NY  10012   \n",
            "12843  WEST 54TH STREET                  NEW YORK           NY  10019   \n",
            "12844  PROSPECT PLACE                    BROOKLYN           NY  11217   \n",
            "12845  RICHMOND ROAD                     STATEN ISLAND      NY  10304   \n",
            "\n",
            "      Owner'sPhone #                                    Job Description  \\\n",
            "12841     9174685659  HORIZONTAL ENLARGEMENT OF ATTACHED ONE CAR GAR...   \n",
            "12842     2122289300  RENOVATION OF EXISTING APARTMENT #3B ON THIRD ...   \n",
            "12843     2127652555  REPLACE BURNER IN EXSTG BOILER WITH NEW GAS BU...   \n",
            "12844     9178487799  INSTALL NEW SPRINKLER SYSTEM THROUGHOUT THE BU...   \n",
            "12845     7184482740  INTERIOR PARTITIONS AND MINOR PLUMBING WORK TO...   \n",
            "\n",
            "                   DOBRunDate  \n",
            "12841  06/13/2013 12:00:00 AM  \n",
            "12842  06/13/2013 12:00:00 AM  \n",
            "12843  06/13/2013 12:00:00 AM  \n",
            "12844  06/13/2013 12:00:00 AM  \n",
            "12845  06/13/2013 12:00:00 AM  \n",
            "\n",
            "[5 rows x 82 columns]\n",
            "(12846, 82)\n",
            "Index(['Job #', 'Doc #', 'Borough', 'House #', 'Street Name', 'Block', 'Lot',\n",
            "       'Bin #', 'Job Type', 'Job Status', 'Job Status Descrp',\n",
            "       'Latest Action Date', 'Building Type', 'Community - Board', 'Cluster',\n",
            "       'Landmarked', 'Adult Estab', 'Loft Board', 'City Owned', 'Little e',\n",
            "       'PC Filed', 'eFiling Filed', 'Plumbing', 'Mechanical', 'Boiler',\n",
            "       'Fuel Burning', 'Fuel Storage', 'Standpipe', 'Sprinkler', 'Fire Alarm',\n",
            "       'Equipment', 'Fire Suppression', 'Curb Cut', 'Other',\n",
            "       'Other Description', 'Applicant's First Name', 'Applicant's Last Name',\n",
            "       'Applicant Professional Title', 'Applicant License #',\n",
            "       'Professional Cert', 'Pre- Filing Date', 'Paid', 'Fully Paid',\n",
            "       'Assigned', 'Approved', 'Fully Permitted', 'Initial Cost',\n",
            "       'Total Est. Fee', 'Fee Status', 'Existing Zoning Sqft',\n",
            "       'Proposed Zoning Sqft', 'Horizontal Enlrgmt', 'Vertical Enlrgmt',\n",
            "       'Enlargement SQ Footage', 'Street Frontage', 'ExistingNo. of Stories',\n",
            "       'Proposed No. of Stories', 'Existing Height', 'Proposed Height',\n",
            "       'Existing Dwelling Units', 'Proposed Dwelling Units',\n",
            "       'Existing Occupancy', 'Proposed Occupancy', 'Site Fill', 'Zoning Dist1',\n",
            "       'Zoning Dist2', 'Zoning Dist3', 'Special District 1',\n",
            "       'Special District 2', 'Owner Type', 'Non-Profit', 'Owner's First Name',\n",
            "       'Owner's Last Name', 'Owner's Business Name', 'Owner's House Number',\n",
            "       'Owner'sHouse Street Name', 'City ', 'State', 'Zip', 'Owner'sPhone #',\n",
            "       'Job Description', 'DOBRunDate'],\n",
            "      dtype='object')\n",
            "<class 'pandas.core.frame.DataFrame'>\n",
            "RangeIndex: 12846 entries, 0 to 12845\n",
            "Data columns (total 82 columns):\n",
            " #   Column                        Non-Null Count  Dtype  \n",
            "---  ------                        --------------  -----  \n",
            " 0   Job #                         12846 non-null  int64  \n",
            " 1   Doc #                         12846 non-null  int64  \n",
            " 2   Borough                       12846 non-null  object \n",
            " 3   House #                       12846 non-null  object \n",
            " 4   Street Name                   12846 non-null  object \n",
            " 5   Block                         12846 non-null  int64  \n",
            " 6   Lot                           12846 non-null  int64  \n",
            " 7   Bin #                         12846 non-null  int64  \n",
            " 8   Job Type                      12846 non-null  object \n",
            " 9   Job Status                    12846 non-null  object \n",
            " 10  Job Status Descrp             12846 non-null  object \n",
            " 11  Latest Action Date            12846 non-null  object \n",
            " 12  Building Type                 12846 non-null  object \n",
            " 13  Community - Board             12846 non-null  object \n",
            " 14  Cluster                       0 non-null      float64\n",
            " 15  Landmarked                    2067 non-null   object \n",
            " 16  Adult Estab                   1 non-null      object \n",
            " 17  Loft Board                    65 non-null     object \n",
            " 18  City Owned                    1419 non-null   object \n",
            " 19  Little e                      365 non-null    object \n",
            " 20  PC Filed                      0 non-null      float64\n",
            " 21  eFiling Filed                 12846 non-null  object \n",
            " 22  Plumbing                      12846 non-null  object \n",
            " 23  Mechanical                    12846 non-null  object \n",
            " 24  Boiler                        12846 non-null  object \n",
            " 25  Fuel Burning                  12846 non-null  object \n",
            " 26  Fuel Storage                  12846 non-null  object \n",
            " 27  Standpipe                     12846 non-null  object \n",
            " 28  Sprinkler                     12846 non-null  object \n",
            " 29  Fire Alarm                    12846 non-null  object \n",
            " 30  Equipment                     12846 non-null  object \n",
            " 31  Fire Suppression              12846 non-null  object \n",
            " 32  Curb Cut                      12846 non-null  object \n",
            " 33  Other                         12846 non-null  object \n",
            " 34  Other Description             12846 non-null  object \n",
            " 35  Applicant's First Name        12846 non-null  object \n",
            " 36  Applicant's Last Name         12846 non-null  object \n",
            " 37  Applicant Professional Title  12846 non-null  object \n",
            " 38  Applicant License #           12846 non-null  object \n",
            " 39  Professional Cert             6908 non-null   object \n",
            " 40  Pre- Filing Date              12846 non-null  object \n",
            " 41  Paid                          11961 non-null  object \n",
            " 42  Fully Paid                    11963 non-null  object \n",
            " 43  Assigned                      3817 non-null   object \n",
            " 44  Approved                      4062 non-null   object \n",
            " 45  Fully Permitted               1495 non-null   object \n",
            " 46  Initial Cost                  12846 non-null  object \n",
            " 47  Total Est. Fee                12846 non-null  object \n",
            " 48  Fee Status                    12846 non-null  object \n",
            " 49  Existing Zoning Sqft          12846 non-null  int64  \n",
            " 50  Proposed Zoning Sqft          12846 non-null  int64  \n",
            " 51  Horizontal Enlrgmt            231 non-null    object \n",
            " 52  Vertical Enlrgmt              142 non-null    object \n",
            " 53  Enlargement SQ Footage        12846 non-null  int64  \n",
            " 54  Street Frontage               12846 non-null  int64  \n",
            " 55  ExistingNo. of Stories        12846 non-null  int64  \n",
            " 56  Proposed No. of Stories       12846 non-null  int64  \n",
            " 57  Existing Height               12846 non-null  int64  \n",
            " 58  Proposed Height               12846 non-null  int64  \n",
            " 59  Existing Dwelling Units       12846 non-null  object \n",
            " 60  Proposed Dwelling Units       12846 non-null  object \n",
            " 61  Existing Occupancy            12846 non-null  object \n",
            " 62  Proposed Occupancy            12846 non-null  object \n",
            " 63  Site Fill                     8641 non-null   object \n",
            " 64  Zoning Dist1                  11263 non-null  object \n",
            " 65  Zoning Dist2                  1652 non-null   object \n",
            " 66  Zoning Dist3                  88 non-null     object \n",
            " 67  Special District 1            3062 non-null   object \n",
            " 68  Special District 2            848 non-null    object \n",
            " 69  Owner Type                    0 non-null      float64\n",
            " 70  Non-Profit                    971 non-null    object \n",
            " 71  Owner's First Name            12846 non-null  object \n",
            " 72  Owner's Last Name             12846 non-null  object \n",
            " 73  Owner's Business Name         12846 non-null  object \n",
            " 74  Owner's House Number          12846 non-null  object \n",
            " 75  Owner'sHouse Street Name      12846 non-null  object \n",
            " 76  City                          12846 non-null  object \n",
            " 77  State                         12846 non-null  object \n",
            " 78  Zip                           12846 non-null  int64  \n",
            " 79  Owner'sPhone #                12846 non-null  int64  \n",
            " 80  Job Description               12699 non-null  object \n",
            " 81  DOBRunDate                    12846 non-null  object \n",
            "dtypes: float64(3), int64(15), object(64)\n",
            "memory usage: 8.0+ MB\n",
            "None\n"
          ]
        },
        {
          "output_type": "stream",
          "name": "stderr",
          "text": [
            "<ipython-input-2-4a277faaa91b>:5: DtypeWarning: Columns (16) have mixed types. Specify dtype option on import or set low_memory=False.\n",
            "  df = pd.read_csv(\"/content/dob_job_application_filings_subset (1).csv\")\n"
          ]
        }
      ],
      "source": [
        "# Import pandas\n",
        "import pandas as pd\n",
        "\n",
        "# Read the file into a DataFrame: df\n",
        "df = pd.read_csv(\"/content/dob_job_application_filings_subset (1).csv\")\n",
        "\n",
        "# Print the head of df\n",
        "print(df.head())\n",
        "\n",
        "# Print the tail of df\n",
        "print(df.tail())\n",
        "\n",
        "# Print the shape of df\n",
        "print(df.shape)\n",
        "\n",
        "# Print the columns of df\n",
        "print(df.columns)\n",
        "\n",
        "# Print the info of df\n",
        "print(df.info())\n"
      ]
    },
    {
      "cell_type": "markdown",
      "metadata": {
        "id": "aFJa9ejt9FNN"
      },
      "source": [
        "2. Further exploration\n",
        "#In this exercise, you're going to look at the 'Borough', 'State', and 'Site Fill' columns to make sure all the values in there are valid. When looking at the output, do a sanity check: Are all values in the 'State' column from NY, for example? Since the dataset consists of applications filed in NY, you would expect this to be the case. \"\"\"\n"
      ]
    },
    {
      "cell_type": "code",
      "execution_count": 3,
      "metadata": {
        "id": "b_JYb60Q9FNN",
        "outputId": "5699e89e-2073-4fca-e079-9163552e4b93",
        "colab": {
          "base_uri": "https://localhost:8080/"
        }
      },
      "outputs": [
        {
          "output_type": "stream",
          "name": "stdout",
          "text": [
            "Borough\n",
            "MANHATTAN        6310\n",
            "BROOKLYN         2866\n",
            "QUEENS           2121\n",
            "BRONX             974\n",
            "STATEN ISLAND     575\n",
            "Name: count, dtype: int64\n",
            "State\n",
            "NY    12391\n",
            "NJ      241\n",
            "PA       38\n",
            "CA       20\n",
            "OH       19\n",
            "IL       17\n",
            "FL       17\n",
            "CT       16\n",
            "TX       13\n",
            "TN       10\n",
            "MD        7\n",
            "DC        7\n",
            "GA        6\n",
            "KS        6\n",
            "MA        6\n",
            "VA        5\n",
            "CO        4\n",
            "MN        3\n",
            "WI        3\n",
            "SC        3\n",
            "AZ        3\n",
            "RI        2\n",
            "NC        2\n",
            "UT        2\n",
            "IN        1\n",
            "NM        1\n",
            "VT        1\n",
            "MI        1\n",
            "WA        1\n",
            "Name: count, dtype: int64\n",
            "Site Fill\n",
            "NOT APPLICABLE                              7806\n",
            "NaN                                         4205\n",
            "ON-SITE                                      519\n",
            "OFF-SITE                                     186\n",
            "USE UNDER 300 CU.YD                          130\n",
            "Name: count, dtype: int64\n"
          ]
        }
      ],
      "source": [
        "# Print the value counts for 'Borough'\n",
        "print(df['Borough'].value_counts(dropna=False))\n",
        "\n",
        "# Print the value_counts for 'State'\n",
        "print(df.State.value_counts(dropna=False))\n",
        "\n",
        "# Print the value counts for 'Site Fill'\n",
        "print(df['Site Fill'].value_counts(dropna=False))"
      ]
    },
    {
      "cell_type": "markdown",
      "metadata": {
        "id": "b_VzOBVz9FNN"
      },
      "source": [
        "3. Visualizing single variables with histograms"
      ]
    },
    {
      "cell_type": "code",
      "execution_count": 4,
      "metadata": {
        "id": "uCSLxswN9FNO",
        "outputId": "1d5e4693-1f8d-4f9a-ca77-86321651518d",
        "colab": {
          "base_uri": "https://localhost:8080/",
          "height": 1000
        }
      },
      "outputs": [
        {
          "output_type": "display_data",
          "data": {
            "text/plain": [
              "<Figure size 640x480 with 1 Axes>"
            ],
            "image/png": "[encoded data removed]"
          },
          "metadata": {}
        },
        {
          "output_type": "error",
          "ename": "KeyError",
          "evalue": "'Column not found: initial_cost'",
          "traceback": [
            "\u001b[0;31m---------------------------------------------------------------------------\u001b[0m",
            "\u001b[0;31mKeyError\u001b[0m                                  Traceback (most recent call last)",
            "\u001b[0;32m<ipython-input-4-56a6ebb8ff06>\u001b[0m in \u001b[0;36m<cell line: 0>\u001b[0;34m()\u001b[0m\n\u001b[1;32m     12\u001b[0m \u001b[0;34m\u001b[0m\u001b[0m\n\u001b[1;32m     13\u001b[0m \u001b[0;31m# Create the boxplot\u001b[0m\u001b[0;34m\u001b[0m\u001b[0;34m\u001b[0m\u001b[0m\n\u001b[0;32m---> 14\u001b[0;31m \u001b[0mdf\u001b[0m\u001b[0;34m.\u001b[0m\u001b[0mboxplot\u001b[0m\u001b[0;34m(\u001b[0m\u001b[0mcolumn\u001b[0m\u001b[0;34m=\u001b[0m\u001b[0;34m'initial_cost'\u001b[0m\u001b[0;34m,\u001b[0m \u001b[0mby\u001b[0m\u001b[0;34m=\u001b[0m\u001b[0;34m'Borough'\u001b[0m\u001b[0;34m,\u001b[0m \u001b[0mrot\u001b[0m\u001b[0;34m=\u001b[0m\u001b[0;36m90\u001b[0m\u001b[0;34m)\u001b[0m\u001b[0;34m\u001b[0m\u001b[0;34m\u001b[0m\u001b[0m\n\u001b[0m\u001b[1;32m     15\u001b[0m \u001b[0;34m\u001b[0m\u001b[0m\n\u001b[1;32m     16\u001b[0m \u001b[0;31m# Display the plot\u001b[0m\u001b[0;34m\u001b[0m\u001b[0;34m\u001b[0m\u001b[0m\n",
            "\u001b[0;32m/usr/local/lib/python3.11/dist-packages/pandas/plotting/_core.py\u001b[0m in \u001b[0;36mboxplot_frame\u001b[0;34m(self, column, by, ax, fontsize, rot, grid, figsize, layout, return_type, backend, **kwargs)\u001b[0m\n\u001b[1;32m    531\u001b[0m ):\n\u001b[1;32m    532\u001b[0m     \u001b[0mplot_backend\u001b[0m \u001b[0;34m=\u001b[0m \u001b[0m_get_plot_backend\u001b[0m\u001b[0;34m(\u001b[0m\u001b[0mbackend\u001b[0m\u001b[0;34m)\u001b[0m\u001b[0;34m\u001b[0m\u001b[0;34m\u001b[0m\u001b[0m\n\u001b[0;32m--> 533\u001b[0;31m     return plot_backend.boxplot_frame(\n\u001b[0m\u001b[1;32m    534\u001b[0m         \u001b[0mself\u001b[0m\u001b[0;34m,\u001b[0m\u001b[0;34m\u001b[0m\u001b[0;34m\u001b[0m\u001b[0m\n\u001b[1;32m    535\u001b[0m         \u001b[0mcolumn\u001b[0m\u001b[0;34m=\u001b[0m\u001b[0mcolumn\u001b[0m\u001b[0;34m,\u001b[0m\u001b[0;34m\u001b[0m\u001b[0;34m\u001b[0m\u001b[0m\n",
            "\u001b[0;32m/usr/local/lib/python3.11/dist-packages/pandas/plotting/_matplotlib/boxplot.py\u001b[0m in \u001b[0;36mboxplot_frame\u001b[0;34m(self, column, by, ax, fontsize, rot, grid, figsize, layout, return_type, **kwds)\u001b[0m\n\u001b[1;32m    490\u001b[0m     \u001b[0;32mimport\u001b[0m \u001b[0mmatplotlib\u001b[0m\u001b[0;34m.\u001b[0m\u001b[0mpyplot\u001b[0m \u001b[0;32mas\u001b[0m \u001b[0mplt\u001b[0m\u001b[0;34m\u001b[0m\u001b[0;34m\u001b[0m\u001b[0m\n\u001b[1;32m    491\u001b[0m \u001b[0;34m\u001b[0m\u001b[0m\n\u001b[0;32m--> 492\u001b[0;31m     ax = boxplot(\n\u001b[0m\u001b[1;32m    493\u001b[0m         \u001b[0mself\u001b[0m\u001b[0;34m,\u001b[0m\u001b[0;34m\u001b[0m\u001b[0;34m\u001b[0m\u001b[0m\n\u001b[1;32m    494\u001b[0m         \u001b[0mcolumn\u001b[0m\u001b[0;34m=\u001b[0m\u001b[0mcolumn\u001b[0m\u001b[0;34m,\u001b[0m\u001b[0;34m\u001b[0m\u001b[0;34m\u001b[0m\u001b[0m\n",
            "\u001b[0;32m/usr/local/lib/python3.11/dist-packages/pandas/plotting/_matplotlib/boxplot.py\u001b[0m in \u001b[0;36mboxplot\u001b[0;34m(data, column, by, ax, fontsize, rot, grid, figsize, layout, return_type, **kwds)\u001b[0m\n\u001b[1;32m    436\u001b[0m         \u001b[0;31m# Prefer array return type for 2-D plots to match the subplot layout\u001b[0m\u001b[0;34m\u001b[0m\u001b[0;34m\u001b[0m\u001b[0m\n\u001b[1;32m    437\u001b[0m         \u001b[0;31m# https://github.com/pandas-dev/pandas/pull/12216#issuecomment-241175580\u001b[0m\u001b[0;34m\u001b[0m\u001b[0;34m\u001b[0m\u001b[0m\n\u001b[0;32m--> 438\u001b[0;31m         result = _grouped_plot_by_column(\n\u001b[0m\u001b[1;32m    439\u001b[0m             \u001b[0mplot_group\u001b[0m\u001b[0;34m,\u001b[0m\u001b[0;34m\u001b[0m\u001b[0;34m\u001b[0m\u001b[0m\n\u001b[1;32m    440\u001b[0m             \u001b[0mdata\u001b[0m\u001b[0;34m,\u001b[0m\u001b[0;34m\u001b[0m\u001b[0;34m\u001b[0m\u001b[0m\n",
            "\u001b[0;32m/usr/local/lib/python3.11/dist-packages/pandas/plotting/_matplotlib/boxplot.py\u001b[0m in \u001b[0;36m_grouped_plot_by_column\u001b[0;34m(plotf, data, columns, by, numeric_only, grid, figsize, ax, layout, return_type, **kwargs)\u001b[0m\n\u001b[1;32m    325\u001b[0m     \u001b[0;32mfor\u001b[0m \u001b[0mi\u001b[0m\u001b[0;34m,\u001b[0m \u001b[0mcol\u001b[0m \u001b[0;32min\u001b[0m \u001b[0menumerate\u001b[0m\u001b[0;34m(\u001b[0m\u001b[0mcolumns\u001b[0m\u001b[0;34m)\u001b[0m\u001b[0;34m:\u001b[0m\u001b[0;34m\u001b[0m\u001b[0;34m\u001b[0m\u001b[0m\n\u001b[1;32m    326\u001b[0m         \u001b[0max\u001b[0m \u001b[0;34m=\u001b[0m \u001b[0m_axes\u001b[0m\u001b[0;34m[\u001b[0m\u001b[0mi\u001b[0m\u001b[0;34m]\u001b[0m\u001b[0;34m\u001b[0m\u001b[0;34m\u001b[0m\u001b[0m\n\u001b[0;32m--> 327\u001b[0;31m         \u001b[0mgp_col\u001b[0m \u001b[0;34m=\u001b[0m \u001b[0mgrouped\u001b[0m\u001b[0;34m[\u001b[0m\u001b[0mcol\u001b[0m\u001b[0;34m]\u001b[0m\u001b[0;34m\u001b[0m\u001b[0;34m\u001b[0m\u001b[0m\n\u001b[0m\u001b[1;32m    328\u001b[0m         \u001b[0mkeys\u001b[0m\u001b[0;34m,\u001b[0m \u001b[0mvalues\u001b[0m \u001b[0;34m=\u001b[0m \u001b[0mzip\u001b[0m\u001b[0;34m(\u001b[0m\u001b[0;34m*\u001b[0m\u001b[0mgp_col\u001b[0m\u001b[0;34m)\u001b[0m\u001b[0;34m\u001b[0m\u001b[0;34m\u001b[0m\u001b[0m\n\u001b[1;32m    329\u001b[0m         \u001b[0mre_plotf\u001b[0m \u001b[0;34m=\u001b[0m \u001b[0mplotf\u001b[0m\u001b[0;34m(\u001b[0m\u001b[0mkeys\u001b[0m\u001b[0;34m,\u001b[0m \u001b[0mvalues\u001b[0m\u001b[0;34m,\u001b[0m \u001b[0max\u001b[0m\u001b[0;34m,\u001b[0m \u001b[0mxlabel\u001b[0m\u001b[0;34m=\u001b[0m\u001b[0mxlabel\u001b[0m\u001b[0;34m,\u001b[0m \u001b[0mylabel\u001b[0m\u001b[0;34m=\u001b[0m\u001b[0mylabel\u001b[0m\u001b[0;34m,\u001b[0m \u001b[0;34m**\u001b[0m\u001b[0mkwargs\u001b[0m\u001b[0;34m)\u001b[0m\u001b[0;34m\u001b[0m\u001b[0;34m\u001b[0m\u001b[0m\n",
            "\u001b[0;32m/usr/local/lib/python3.11/dist-packages/pandas/core/groupby/generic.py\u001b[0m in \u001b[0;36m__getitem__\u001b[0;34m(self, key)\u001b[0m\n\u001b[1;32m   1949\u001b[0m                 \u001b[0;34m\"Use a list instead.\"\u001b[0m\u001b[0;34m\u001b[0m\u001b[0;34m\u001b[0m\u001b[0m\n\u001b[1;32m   1950\u001b[0m             )\n\u001b[0;32m-> 1951\u001b[0;31m         \u001b[0;32mreturn\u001b[0m \u001b[0msuper\u001b[0m\u001b[0;34m(\u001b[0m\u001b[0;34m)\u001b[0m\u001b[0;34m.\u001b[0m\u001b[0m__getitem__\u001b[0m\u001b[0;34m(\u001b[0m\u001b[0mkey\u001b[0m\u001b[0;34m)\u001b[0m\u001b[0;34m\u001b[0m\u001b[0;34m\u001b[0m\u001b[0m\n\u001b[0m\u001b[1;32m   1952\u001b[0m \u001b[0;34m\u001b[0m\u001b[0m\n\u001b[1;32m   1953\u001b[0m     \u001b[0;32mdef\u001b[0m \u001b[0m_gotitem\u001b[0m\u001b[0;34m(\u001b[0m\u001b[0mself\u001b[0m\u001b[0;34m,\u001b[0m \u001b[0mkey\u001b[0m\u001b[0;34m,\u001b[0m \u001b[0mndim\u001b[0m\u001b[0;34m:\u001b[0m \u001b[0mint\u001b[0m\u001b[0;34m,\u001b[0m \u001b[0msubset\u001b[0m\u001b[0;34m=\u001b[0m\u001b[0;32mNone\u001b[0m\u001b[0;34m)\u001b[0m\u001b[0;34m:\u001b[0m\u001b[0;34m\u001b[0m\u001b[0;34m\u001b[0m\u001b[0m\n",
            "\u001b[0;32m/usr/local/lib/python3.11/dist-packages/pandas/core/base.py\u001b[0m in \u001b[0;36m__getitem__\u001b[0;34m(self, key)\u001b[0m\n\u001b[1;32m    242\u001b[0m         \u001b[0;32melse\u001b[0m\u001b[0;34m:\u001b[0m\u001b[0;34m\u001b[0m\u001b[0;34m\u001b[0m\u001b[0m\n\u001b[1;32m    243\u001b[0m             \u001b[0;32mif\u001b[0m \u001b[0mkey\u001b[0m \u001b[0;32mnot\u001b[0m \u001b[0;32min\u001b[0m \u001b[0mself\u001b[0m\u001b[0;34m.\u001b[0m\u001b[0mobj\u001b[0m\u001b[0;34m:\u001b[0m\u001b[0;34m\u001b[0m\u001b[0;34m\u001b[0m\u001b[0m\n\u001b[0;32m--> 244\u001b[0;31m                 \u001b[0;32mraise\u001b[0m \u001b[0mKeyError\u001b[0m\u001b[0;34m(\u001b[0m\u001b[0;34mf\"Column not found: {key}\"\u001b[0m\u001b[0;34m)\u001b[0m\u001b[0;34m\u001b[0m\u001b[0;34m\u001b[0m\u001b[0m\n\u001b[0m\u001b[1;32m    245\u001b[0m             \u001b[0mndim\u001b[0m \u001b[0;34m=\u001b[0m \u001b[0mself\u001b[0m\u001b[0;34m.\u001b[0m\u001b[0mobj\u001b[0m\u001b[0;34m[\u001b[0m\u001b[0mkey\u001b[0m\u001b[0;34m]\u001b[0m\u001b[0;34m.\u001b[0m\u001b[0mndim\u001b[0m\u001b[0;34m\u001b[0m\u001b[0;34m\u001b[0m\u001b[0m\n\u001b[1;32m    246\u001b[0m             \u001b[0;32mreturn\u001b[0m \u001b[0mself\u001b[0m\u001b[0;34m.\u001b[0m\u001b[0m_gotitem\u001b[0m\u001b[0;34m(\u001b[0m\u001b[0mkey\u001b[0m\u001b[0;34m,\u001b[0m \u001b[0mndim\u001b[0m\u001b[0;34m=\u001b[0m\u001b[0mndim\u001b[0m\u001b[0;34m)\u001b[0m\u001b[0;34m\u001b[0m\u001b[0;34m\u001b[0m\u001b[0m\n",
            "\u001b[0;31mKeyError\u001b[0m: 'Column not found: initial_cost'"
          ]
        },
        {
          "output_type": "display_data",
          "data": {
            "text/plain": [
              "<Figure size 640x480 with 1 Axes>"
            ],
            "image/png": "[encoded data removed]"
          },
          "metadata": {}
        }
      ],
      "source": [
        "# Import matplotlib.pyplot\n",
        "import matplotlib.pyplot as plt\n",
        "\n",
        "# Describe the column\n",
        "df['Existing Zoning Sqft'].describe()\n",
        "\n",
        "# Plot the histogram\n",
        "df['Existing Zoning Sqft'].plot(kind='hist', rot=70, logx=True, logy=True)\n",
        "\n",
        "# Display the histogram\n",
        "plt.show()\n",
        "\n",
        "# Create the boxplot\n",
        "df.boxplot(column='initial_cost', by='Borough', rot=90)\n",
        "\n",
        "# Display the plot\n",
        "plt.show()"
      ]
    },
    {
      "cell_type": "markdown",
      "metadata": {
        "id": "ve6Ul_4S9FNO"
      },
      "source": []
    },
    {
      "cell_type": "markdown",
      "metadata": {
        "id": "cFHpxv939FNO"
      },
      "source": [
        "**TIDYING DATA FOR ANALYSIS**\n",
        "\n",
        "Reshaping data using Melt.py"
      ]
    },
    {
      "cell_type": "code",
      "execution_count": 6,
      "metadata": {
        "id": "Vp998xBv9FNO",
        "outputId": "95c9c038-037d-4e4d-c0a0-2177a1d94652",
        "colab": {
          "base_uri": "https://localhost:8080/",
          "height": 110
        }
      },
      "outputs": [
        {
          "output_type": "error",
          "ename": "SyntaxError",
          "evalue": "'(' was never closed (<ipython-input-6-29ce5d74cbdc>, line 6)",
          "traceback": [
            "\u001b[0;36m  File \u001b[0;32m\"<ipython-input-6-29ce5d74cbdc>\"\u001b[0;36m, line \u001b[0;32m6\u001b[0m\n\u001b[0;31m    df = pd.read_csv(\"/content/dob_job_application_filings_subset (1).csv\"\u001b[0m\n\u001b[0m                    ^\u001b[0m\n\u001b[0;31mSyntaxError\u001b[0m\u001b[0;31m:\u001b[0m '(' was never closed\n"
          ]
        }
      ],
      "source": [
        "import numpy as np\n",
        "import pandas as pd\n",
        "import matplotlib as plt\n",
        "\n",
        "# be sure to load airquality dataframe\n",
        "df = pd.read_csv(\"/content/dob_job_application_filings_subset (1).csv\"\n",
        "\n",
        "# Print the head of airquality\n",
        "print(airquality.head())\n",
        "\n",
        "# Melt airquality: airquality_melt\n",
        "airquality_melt = pd.melt(frame=airquality, id_vars=['Month', 'Day'])\n",
        "\n",
        "# Print the head of airquality_melt\n",
        "print(airquality_melt.head())\n",
        "\n"
      ]
    },
    {
      "cell_type": "markdown",
      "metadata": {
        "id": "MSY5x3ro9FNO"
      },
      "source": [
        "Customizing Melted Data"
      ]
    },
    {
      "cell_type": "code",
      "execution_count": 7,
      "metadata": {
        "id": "4X8FLnfk9FNO",
        "outputId": "cb0cd781-31f0-4912-b59e-9c208d2dd46e",
        "colab": {
          "base_uri": "https://localhost:8080/",
          "height": 220
        }
      },
      "outputs": [
        {
          "output_type": "error",
          "ename": "NameError",
          "evalue": "name 'airquality' is not defined",
          "traceback": [
            "\u001b[0;31m---------------------------------------------------------------------------\u001b[0m",
            "\u001b[0;31mNameError\u001b[0m                                 Traceback (most recent call last)",
            "\u001b[0;32m<ipython-input-7-924e70a11a7e>\u001b[0m in \u001b[0;36m<cell line: 0>\u001b[0;34m()\u001b[0m\n\u001b[1;32m      1\u001b[0m \u001b[0;31m# Melt airquality: airquality_melt\u001b[0m\u001b[0;34m\u001b[0m\u001b[0;34m\u001b[0m\u001b[0m\n\u001b[0;32m----> 2\u001b[0;31m \u001b[0mairquality_melt_v\u001b[0m \u001b[0;34m=\u001b[0m \u001b[0mpd\u001b[0m\u001b[0;34m.\u001b[0m\u001b[0mmelt\u001b[0m\u001b[0;34m(\u001b[0m\u001b[0mairquality\u001b[0m\u001b[0;34m,\u001b[0m \u001b[0mid_vars\u001b[0m\u001b[0;34m=\u001b[0m\u001b[0;34m[\u001b[0m\u001b[0;34m'Month'\u001b[0m\u001b[0;34m,\u001b[0m \u001b[0;34m'Day'\u001b[0m\u001b[0;34m]\u001b[0m\u001b[0;34m,\u001b[0m \u001b[0mvar_name\u001b[0m\u001b[0;34m=\u001b[0m\u001b[0;34m'measurement'\u001b[0m\u001b[0;34m,\u001b[0m \u001b[0mvalue_name\u001b[0m\u001b[0;34m=\u001b[0m\u001b[0;34m'reading'\u001b[0m\u001b[0;34m)\u001b[0m\u001b[0;34m\u001b[0m\u001b[0;34m\u001b[0m\u001b[0m\n\u001b[0m\u001b[1;32m      3\u001b[0m \u001b[0;34m\u001b[0m\u001b[0m\n\u001b[1;32m      4\u001b[0m \u001b[0;31m# Print the head of airquality_melt\u001b[0m\u001b[0;34m\u001b[0m\u001b[0;34m\u001b[0m\u001b[0m\n\u001b[1;32m      5\u001b[0m \u001b[0mprint\u001b[0m\u001b[0;34m(\u001b[0m\u001b[0mairquality_melt_v\u001b[0m\u001b[0;34m.\u001b[0m\u001b[0mhead\u001b[0m\u001b[0;34m(\u001b[0m\u001b[0;34m)\u001b[0m\u001b[0;34m)\u001b[0m\u001b[0;34m\u001b[0m\u001b[0;34m\u001b[0m\u001b[0m\n",
            "\u001b[0;31mNameError\u001b[0m: name 'airquality' is not defined"
          ]
        }
      ],
      "source": [
        "# Melt airquality: airquality_melt\n",
        "airquality_melt_v = pd.melt(airquality, id_vars=['Month', 'Day'], var_name='measurement', value_name='reading')\n",
        "\n",
        "# Print the head of airquality_melt\n",
        "print(airquality_melt_v.head())"
      ]
    },
    {
      "cell_type": "markdown",
      "metadata": {
        "id": "-mi8wkrp9FNP"
      },
      "source": [
        "Pivoting Data"
      ]
    },
    {
      "cell_type": "code",
      "execution_count": null,
      "metadata": {
        "id": "Rj22sg2H9FNP",
        "outputId": "3477fd91-e807-419a-f139-a54389b087f1"
      },
      "outputs": [
        {
          "name": "stdout",
          "output_type": "stream",
          "text": [
            "   Month  Day variable  value\n",
            "0      5    1    Ozone   41.0\n",
            "1      5    2    Ozone   36.0\n",
            "2      5    3    Ozone   12.0\n",
            "3      5    4    Ozone   18.0\n",
            "4      5    5    Ozone    NaN\n",
            "measurement  Ozone  Solar.R  Temp  Wind\n",
            "Month Day                              \n",
            "5     1       41.0    190.0  67.0   7.4\n",
            "      2       36.0    118.0  72.0   8.0\n",
            "      3       12.0    149.0  74.0  12.6\n",
            "      4       18.0    313.0  62.0  11.5\n",
            "      5        NaN      NaN  56.0  14.3\n"
          ]
        }
      ],
      "source": [
        " # Print the head of airquality_melt\n",
        "print(airquality_melt.head())\n",
        "\n",
        "# Pivot airquality_melt: airquality_pivot\n",
        "airquality_pivot = airquality_melt_v.pivot_table(index=['Month', 'Day'], columns='measurement', values='reading')\n",
        "\n",
        "# Print the head of airquality_pivot\n",
        "print(airquality_pivot.head())\n"
      ]
    },
    {
      "cell_type": "markdown",
      "metadata": {
        "id": "zVfVgkpy9FNP"
      },
      "source": [
        "Pivoting Duplicate Values"
      ]
    },
    {
      "cell_type": "code",
      "execution_count": null,
      "metadata": {
        "id": "Fowk-kj09FNP",
        "outputId": "3563295c-207c-4fa1-9e2f-12fcf666f43f"
      },
      "outputs": [
        {
          "name": "stdout",
          "output_type": "stream",
          "text": [
            "measurement  Ozone  Solar.R  Temp  Wind\n",
            "Month Day                              \n",
            "5     1       41.0    190.0  67.0   7.4\n",
            "      2       36.0    118.0  72.0   8.0\n",
            "      3       12.0    149.0  74.0  12.6\n",
            "      4       18.0    313.0  62.0  11.5\n",
            "      5        NaN      NaN  56.0  14.3\n"
          ]
        },
        {
          "name": "stderr",
          "output_type": "stream",
          "text": [
            "C:\\Users\\adeolu.adekunle\\AppData\\Local\\Temp\\ipykernel_28104\\278395416.py:2: FutureWarning: The provided callable <function mean at 0x000002694EB90540> is currently using DataFrameGroupBy.mean. In a future version of pandas, the provided callable will be used directly. To keep current behavior pass the string \"mean\" instead.\n",
            "  airquality_pivot_dup = airquality_melt_v.pivot_table(index=['Month', 'Day'], columns='measurement', values='reading', aggfunc=np.mean)\n"
          ]
        }
      ],
      "source": [
        "# Pivot table the airquality_dup: airquality_pivot\n",
        "airquality_pivot_dup = airquality_melt_v.pivot_table(index=['Month', 'Day'], columns='measurement', values='reading', aggfunc=np.mean)\n",
        "\n",
        "# Print the head of airquality_pivot before reset_index\n",
        "print(airquality_pivot_dup.head())\n"
      ]
    },
    {
      "cell_type": "markdown",
      "metadata": {
        "id": "9NhQQPqQ9FNP"
      },
      "source": [
        "Reset the index of a dataframe"
      ]
    },
    {
      "cell_type": "code",
      "execution_count": null,
      "metadata": {
        "id": "NzeyN9Wr9FNP",
        "outputId": "df655ebb-fcab-433f-d7a4-692f42f38a90"
      },
      "outputs": [
        {
          "name": "stdout",
          "output_type": "stream",
          "text": [
            "measurement  Month  Day  Ozone  Solar.R  Temp  Wind\n",
            "0                5    1   41.0    190.0  67.0   7.4\n",
            "1                5    2   36.0    118.0  72.0   8.0\n",
            "2                5    3   12.0    149.0  74.0  12.6\n",
            "3                5    4   18.0    313.0  62.0  11.5\n",
            "4                5    5    NaN      NaN  56.0  14.3\n",
            "   Ozone  Solar.R  Wind  Temp  Month  Day\n",
            "0   41.0    190.0   7.4    67      5    1\n",
            "1   36.0    118.0   8.0    72      5    2\n",
            "2   12.0    149.0  12.6    74      5    3\n",
            "3   18.0    313.0  11.5    62      5    4\n",
            "4    NaN      NaN  14.3    56      5    5\n"
          ]
        }
      ],
      "source": [
        "# Reset the index of airquality_pivot\n",
        "airquality_pivot_ind = airquality_pivot.reset_index()\n",
        "\n",
        "# Print the head of airquality_pivot\n",
        "print(airquality_pivot_ind.head())\n",
        "\n",
        "# Print the head of airquality\n",
        "print(airquality.head())"
      ]
    },
    {
      "cell_type": "markdown",
      "metadata": {
        "id": "kXkVTzqU9FNP"
      },
      "source": [
        "Splitting columns with (dot)str"
      ]
    },
    {
      "cell_type": "code",
      "execution_count": null,
      "metadata": {
        "id": "-18zS-cN9FNQ",
        "outputId": "4329abc5-f173-433a-d145-731efc1e416a"
      },
      "outputs": [
        {
          "name": "stdout",
          "output_type": "stream",
          "text": [
            "  country  year variable  value gender age_group\n",
            "0      AD  2000     m014    0.0      m       014\n",
            "1      AE  2000     m014    2.0      m       014\n",
            "2      AF  2000     m014   52.0      m       014\n",
            "3      AG  2000     m014    0.0      m       014\n",
            "4      AL  2000     m014    2.0      m       014\n"
          ]
        }
      ],
      "source": [
        "#import tb data\n",
        "tb = pd.read_csv(r\"C:\\Users\\adeolu.adekunle\\OneDrive - Texas A&M AgriLife\\Desktop\\Git-tutorial\\Decision-Science-for-Sustainable-Livestock-Systems_Module-2\\Data Manipulation\\datasets\\tb.csv\")\n",
        "\n",
        "# Melt tb: tb_melt\n",
        "tb_melt = pd.melt(frame=tb, id_vars=['country', 'year'])\n",
        "\n",
        "# Create the 'gender' column\n",
        "tb_melt['gender'] = tb_melt.variable.str[0]\n",
        "\n",
        "# Create the 'age_group' column\n",
        "tb_melt['age_group'] = tb_melt.variable.str[1:]\n",
        "\n",
        "# Print the head of tb_melt\n",
        "print(tb_melt.head())\n"
      ]
    },
    {
      "cell_type": "markdown",
      "metadata": {
        "id": "xtswmsWz9FNQ"
      },
      "source": [
        "Splitting columns with (dot)split"
      ]
    },
    {
      "cell_type": "code",
      "execution_count": null,
      "metadata": {
        "id": "J4CNfbCB9FNQ",
        "outputId": "445a3847-87d2-4750-f369-94522a69da50"
      },
      "outputs": [
        {
          "name": "stdout",
          "output_type": "stream",
          "text": [
            "         Date  Day  type_country  counts        str_split   type country\n",
            "0    1/5/2015  289  Cases_Guinea  2776.0  [Cases, Guinea]  Cases  Guinea\n",
            "1    1/4/2015  288  Cases_Guinea  2775.0  [Cases, Guinea]  Cases  Guinea\n",
            "2    1/3/2015  287  Cases_Guinea  2769.0  [Cases, Guinea]  Cases  Guinea\n",
            "3    1/2/2015  286  Cases_Guinea     NaN  [Cases, Guinea]  Cases  Guinea\n",
            "4  12/31/2014  284  Cases_Guinea  2730.0  [Cases, Guinea]  Cases  Guinea\n"
          ]
        }
      ],
      "source": [
        "#Import dataset\n",
        "ebola = pd.read_csv(r\"C:\\Users\\adeolu.adekunle\\OneDrive - Texas A&M AgriLife\\Desktop\\Git-tutorial\\Decision-Science-for-Sustainable-Livestock-Systems_Module-2\\Data Manipulation\\datasets\\ebola.csv\")\n",
        "\n",
        "# Melt ebola: ebola_melt\n",
        "ebola_melt = pd.melt(ebola, id_vars=['Date', 'Day'], var_name='type_country', value_name='counts')\n",
        "\n",
        "# Create the 'str_split' column\n",
        "ebola_melt['str_split'] = ebola_melt.type_country.str.split('_')\n",
        "\n",
        "# Create the 'type' column\n",
        "ebola_melt['type'] = ebola_melt.str_split.str.get(0)\n",
        "\n",
        "# Create the 'country' column\n",
        "ebola_melt['country'] = ebola_melt.str_split.str.get(1)\n",
        "\n",
        "# Print the head of ebola_melt\n",
        "print(ebola_melt.head())\n"
      ]
    },
    {
      "cell_type": "markdown",
      "metadata": {
        "id": "mm3-Ep_F9FNQ"
      },
      "source": [
        "**Cleaning Data For Analysis**\n",
        "1. Converting Data Types"
      ]
    },
    {
      "cell_type": "code",
      "execution_count": null,
      "metadata": {
        "id": "2k7HFeVD9FNQ",
        "outputId": "42af5102-7230-4258-a36c-ea9bfab52d2e"
      },
      "outputs": [
        {
          "name": "stdout",
          "output_type": "stream",
          "text": [
            "<class 'pandas.core.frame.DataFrame'>\n",
            "RangeIndex: 244 entries, 0 to 243\n",
            "Data columns (total 7 columns):\n",
            " #   Column      Non-Null Count  Dtype   \n",
            "---  ------      --------------  -----   \n",
            " 0   total_bill  244 non-null    float64 \n",
            " 1   tip         244 non-null    float64 \n",
            " 2   sex         244 non-null    category\n",
            " 3   smoker      244 non-null    category\n",
            " 4   day         244 non-null    object  \n",
            " 5   time        244 non-null    object  \n",
            " 6   size        244 non-null    int64   \n",
            "dtypes: category(2), float64(2), int64(1), object(2)\n",
            "memory usage: 10.4+ KB\n",
            "None\n"
          ]
        }
      ],
      "source": [
        "#Convert the sex column of the tips DataFrame to type 'category' using the .astype() method.\n",
        "\n",
        "#Import dataset\n",
        "tips = pd.read_csv(r\"C:\\Users\\adeolu.adekunle\\OneDrive - Texas A&M AgriLife\\Desktop\\Git-tutorial\\Decision-Science-for-Sustainable-Livestock-Systems_Module-2\\Data Manipulation\\datasets\\tips.csv\")\n",
        "\n",
        "# Convert the sex column to type 'category'\n",
        "tips.sex = tips.sex.astype('category')\n",
        "\n",
        "# Convert the smoker column to type 'category'\n",
        "tips.smoker = tips.smoker.astype('category')\n",
        "\n",
        "# Print the info of tips\n",
        "print(tips.info())"
      ]
    },
    {
      "cell_type": "markdown",
      "metadata": {
        "id": "ZEMpa0r59FNQ"
      },
      "source": [
        "2. Working with Numeric Data"
      ]
    },
    {
      "cell_type": "code",
      "execution_count": null,
      "metadata": {
        "id": "LGBYYyLm9FNQ",
        "outputId": "a15d79e0-89c8-4bb0-9339-b62721417b4c"
      },
      "outputs": [
        {
          "name": "stdout",
          "output_type": "stream",
          "text": [
            "<class 'pandas.core.frame.DataFrame'>\n",
            "RangeIndex: 244 entries, 0 to 243\n",
            "Data columns (total 7 columns):\n",
            " #   Column      Non-Null Count  Dtype   \n",
            "---  ------      --------------  -----   \n",
            " 0   total_bill  244 non-null    float64 \n",
            " 1   tip         244 non-null    float64 \n",
            " 2   sex         244 non-null    category\n",
            " 3   smoker      244 non-null    category\n",
            " 4   day         244 non-null    object  \n",
            " 5   time        244 non-null    object  \n",
            " 6   size        244 non-null    int64   \n",
            "dtypes: category(2), float64(2), int64(1), object(2)\n",
            "memory usage: 10.4+ KB\n",
            "None\n"
          ]
        }
      ],
      "source": [
        "\n",
        "# Convert 'total_bill' to a numeric dtype\n",
        "tips['total_bill'] = pd.to_numeric(tips['total_bill'], errors='coerce')\n",
        "\n",
        "# Convert 'tip' to a numeric dtype\n",
        "tips['tip'] = pd.to_numeric(tips['tip'],errors='coerce')\n",
        "\n",
        "# Print the info of tips\n",
        "print(tips.info())\n"
      ]
    },
    {
      "cell_type": "markdown",
      "metadata": {
        "id": "pwjhCwNM9FNQ"
      },
      "source": [
        "3. String parsing with Regex"
      ]
    },
    {
      "cell_type": "code",
      "execution_count": null,
      "metadata": {
        "id": "JR4WT-_I9FNQ",
        "outputId": "4d806db4-8d6b-46e4-8d7e-a5d0c16bacdd"
      },
      "outputs": [
        {
          "name": "stdout",
          "output_type": "stream",
          "text": [
            "True\n",
            "False\n"
          ]
        }
      ],
      "source": [
        "\n",
        " # Import the regular expression module\n",
        "import re\n",
        "\n",
        "# Compile the pattern: prog\n",
        "prog = re.compile(r\"\\d{3}\\-\\d{3}\\-\\d{4}\")\n",
        "\n",
        "# See if the pattern matches\n",
        "result = prog.match('123-456-7890')\n",
        "print(bool(result))\n",
        "\n",
        "# See if the pattern matches\n",
        "result2 = prog.match('1123-456-7890')\n",
        "print(bool(result2))\n"
      ]
    },
    {
      "cell_type": "markdown",
      "metadata": {
        "id": "POJuK2wC9FNR"
      },
      "source": [
        "4. Extracting numerical values from strings"
      ]
    },
    {
      "cell_type": "code",
      "execution_count": null,
      "metadata": {
        "id": "x8KCT6Zs9FNR",
        "outputId": "7b55d308-4e06-4004-d8a9-ccd0a7bbdd0e"
      },
      "outputs": [
        {
          "name": "stdout",
          "output_type": "stream",
          "text": [
            "['10', '1']\n"
          ]
        }
      ],
      "source": [
        "# Import the regular expression module\n",
        "import re\n",
        "\n",
        "# Find the numeric values: matches\n",
        "matches = re.findall(r'\\d+', 'the recipe calls for 10 strawberries and 1 banana')\n",
        "\n",
        "# Print the matches\n",
        "print(matches)"
      ]
    },
    {
      "cell_type": "markdown",
      "metadata": {
        "id": "sNrQzKtU9FNR"
      },
      "source": [
        "5. Pattern Matching"
      ]
    },
    {
      "cell_type": "code",
      "execution_count": null,
      "metadata": {
        "id": "fdzQYHCG9FNR",
        "outputId": "c3e73569-06a8-4eaf-f6b5-f63103a2cd69"
      },
      "outputs": [
        {
          "name": "stdout",
          "output_type": "stream",
          "text": [
            "True\n",
            "True\n",
            "True\n"
          ]
        }
      ],
      "source": [
        "# Write the first pattern\n",
        "pattern1 = bool(re.match(pattern=r'\\d{3}\\-\\d{3}\\-\\d{4}', string='123-456-7890'))\n",
        "print(pattern1)\n",
        "\n",
        "# Write the second pattern\n",
        "pattern2 = bool(re.match(pattern=r'^\\$\\d*\\.\\d{2}$', string='$123.45'))\n",
        "print(pattern2)\n",
        "\n",
        "# Write the third pattern\n",
        "pattern3 = bool(re.match(pattern=r'[A-Z]\\w*', string='Australia'))\n",
        "print(pattern3)\n"
      ]
    },
    {
      "cell_type": "markdown",
      "metadata": {
        "id": "3sSAu_og9FNR"
      },
      "source": [
        "6. Data cleaning custom function"
      ]
    },
    {
      "cell_type": "markdown",
      "metadata": {
        "id": "PlyGXh1K9FNR"
      },
      "source": [
        "Using the Lambda Function"
      ]
    },
    {
      "cell_type": "code",
      "execution_count": null,
      "metadata": {
        "id": "ej54josq9FNR",
        "outputId": "a00d3e61-ea37-4a6e-91d4-49fb623f3d9d"
      },
      "outputs": [
        {
          "name": "stdout",
          "output_type": "stream",
          "text": [
            "    total_bill    tip     sex smoker  day    time  size total_dollar\n",
            "0         16.99  1.01  Female     No  Sun  Dinner     2       $16.99\n",
            "1         10.34  1.66    Male     No  Sun  Dinner     3       $10.34\n",
            "2         21.01  3.50    Male     No  Sun  Dinner     3       $21.01\n",
            "3         23.68  3.31    Male     No  Sun  Dinner     2       $23.68\n",
            "4         24.59  3.61  Female     No  Sun  Dinner     4       $24.59\n",
            "    total_bill    tip     sex smoker  day    time  size total_dollar  \\\n",
            "0         16.99  1.01  Female     No  Sun  Dinner     2       $16.99   \n",
            "1         10.34  1.66    Male     No  Sun  Dinner     3       $10.34   \n",
            "2         21.01  3.50    Male     No  Sun  Dinner     3       $21.01   \n",
            "3         23.68  3.31    Male     No  Sun  Dinner     2       $23.68   \n",
            "4         24.59  3.61  Female     No  Sun  Dinner     4       $24.59   \n",
            "\n",
            "  total_dollar_replace  \n",
            "0                16.99  \n",
            "1                10.34  \n",
            "2                21.01  \n",
            "3                23.68  \n",
            "4                24.59  \n",
            "    total_bill    tip     sex smoker  day    time  size total_dollar  \\\n",
            "0         16.99  1.01  Female     No  Sun  Dinner     2       $16.99   \n",
            "1         10.34  1.66    Male     No  Sun  Dinner     3       $10.34   \n",
            "2         21.01  3.50    Male     No  Sun  Dinner     3       $21.01   \n",
            "3         23.68  3.31    Male     No  Sun  Dinner     2       $23.68   \n",
            "4         24.59  3.61  Female     No  Sun  Dinner     4       $24.59   \n",
            "\n",
            "  total_dollar_replace total_dollar_re  \n",
            "0                16.99         [16.99]  \n",
            "1                10.34         [10.34]  \n",
            "2                21.01         [21.01]  \n",
            "3                23.68         [23.68]  \n",
            "4                24.59         [24.59]  \n"
          ]
        }
      ],
      "source": [
        "#import datasets\n",
        "tips = pd.read_csv(r\"C:\\Users\\adeolu.adekunle\\OneDrive - Texas A&M AgriLife\\Desktop\\Git-tutorial\\Decision-Science-for-Sustainable-Livestock-Systems_Module-2\\Data Manipulation\\datasets\\tips.csv\")\n",
        "\n",
        "# Print the head of tips\n",
        "print(tips.head())\n",
        "\n",
        "\n",
        "# Write the lambda function using replace\n",
        "tips['total_dollar_replace'] = tips.total_dollar.apply(lambda x: x.replace('$',''))\n",
        "\n",
        "# Print the head of tips\n",
        "print(tips.head())\n",
        "\n",
        "# Write the lambda function using regular expressions\n",
        "tips['total_dollar_re'] = tips.total_dollar.apply(lambda x: re.findall(r'\\d+\\.\\d+', x))\n",
        "\n",
        "# Print the head of tips\n",
        "print(tips.head())"
      ]
    },
    {
      "cell_type": "code",
      "execution_count": null,
      "metadata": {
        "id": "7IfFLSQn9FNR",
        "outputId": "96bf6110-b9dd-4b8a-9378-da680d8f5e81"
      },
      "outputs": [
        {
          "name": "stdout",
          "output_type": "stream",
          "text": [
            "   total_bill   tip     sex smoker  day    time  size recode\n",
            "0       16.99  1.01  Female     No  Sun  Dinner     2      0\n",
            "1       10.34  1.66    Male     No  Sun  Dinner     3      1\n",
            "2       21.01  3.50    Male     No  Sun  Dinner     3      1\n",
            "3       23.68  3.31    Male     No  Sun  Dinner     2      1\n",
            "4       24.59  3.61  Female     No  Sun  Dinner     4      0\n"
          ]
        }
      ],
      "source": [
        "\n",
        "# Define recode_gender()\n",
        "def recode_gender(gender):\n",
        "\n",
        "    # Return 0 if gender is 'Female'\n",
        "    if gender == 'Female':\n",
        "        return 0\n",
        "\n",
        "    # Return 1 if gender is 'Male'\n",
        "    elif gender == 'Male':\n",
        "        return 1\n",
        "\n",
        "    # Return np.nan\n",
        "    else:\n",
        "        return np.nan\n",
        "\n",
        "# Apply the function to the sex column\n",
        "tips['recode'] = tips.sex.apply(recode_gender)\n",
        "\n",
        "# Print the first five rows of tips\n",
        "print(tips.head())\n"
      ]
    },
    {
      "cell_type": "markdown",
      "metadata": {
        "id": "p4V63MHC9FNR"
      },
      "source": [
        "7. Filling Missing Data"
      ]
    },
    {
      "cell_type": "code",
      "execution_count": null,
      "metadata": {
        "id": "B7_rdAhO9FNR",
        "outputId": "eb1b528e-e585-45b7-90f2-87af52f700ae"
      },
      "outputs": [
        {
          "name": "stdout",
          "output_type": "stream",
          "text": [
            "<class 'pandas.core.frame.DataFrame'>\n",
            "RangeIndex: 153 entries, 0 to 152\n",
            "Data columns (total 6 columns):\n",
            " #   Column   Non-Null Count  Dtype  \n",
            "---  ------   --------------  -----  \n",
            " 0   Ozone    153 non-null    float64\n",
            " 1   Solar.R  146 non-null    float64\n",
            " 2   Wind     153 non-null    float64\n",
            " 3   Temp     153 non-null    int64  \n",
            " 4   Month    153 non-null    int64  \n",
            " 5   Day      153 non-null    int64  \n",
            "dtypes: float64(3), int64(3)\n",
            "memory usage: 7.3 KB\n",
            "None\n"
          ]
        }
      ],
      "source": [
        "\n",
        "# Calculate the mean of the Ozone column: oz_mean\n",
        "oz_mean = airquality.Ozone.mean()\n",
        "\n",
        "# Replace all the missing values in the Ozone column with the mean\n",
        "airquality['Ozone'] = airquality.Ozone.fillna(oz_mean)\n",
        "\n",
        "# Print the info of airquality\n",
        "print(airquality.info())\n"
      ]
    },
    {
      "cell_type": "markdown",
      "metadata": {
        "id": "VKCXGPoX9FNS"
      },
      "source": [
        "8. Testing your data with Assert"
      ]
    },
    {
      "cell_type": "code",
      "execution_count": null,
      "metadata": {
        "id": "7aI3_19a9FNS"
      },
      "outputs": [],
      "source": [
        "#Import dataset\n",
        "ebola = pd.read_csv(r\"C:\\Users\\adeolu.adekunle\\OneDrive - Texas A&M AgriLife\\Desktop\\Git-tutorial\\Decision-Science-for-Sustainable-Livestock-Systems_Module-2\\Data Manipulation\\datasets\\ebola.csv\")\n",
        "\n",
        "# Assert that there are no missing values (excluding the first column which are dates)\n",
        "assert ebola.iloc[:, 1:].notnull().all().all()\n",
        "\n",
        "# Assert that all values are >= 0 (excluding the first column)\n",
        "assert (ebola.iloc[:, 1:] >= 0).all().all()"
      ]
    },
    {
      "cell_type": "markdown",
      "metadata": {
        "id": "B5rmLeXE9FNX"
      },
      "source": [
        "**Case Study**\n",
        "\n",
        "Function that cleans your data by selecting rows, drops missing values etc."
      ]
    },
    {
      "cell_type": "code",
      "execution_count": null,
      "metadata": {
        "id": "WvkKb6p39FNX"
      },
      "outputs": [],
      "source": [
        "#import dataset\n",
        "g1800s = pd.read_csv(r'C:\\Users\\adeolu.adekunle\\OneDrive - Texas A&M AgriLife\\Desktop\\Git-tutorial\\Decision-Science-for-Sustainable-Livestock-Systems_Module-2\\Data Manipulation\\datasets\\gapminder1.csv')\n",
        "\n",
        "def check_null_or_valid(row_data):\n",
        "    \"\"\"Function that takes a row of data,\n",
        "    drops all missing values,\n",
        "    and checks if all remaining values are greater than or equal to 0 \"\"\"\n",
        "    no_na = row_data.dropna()\n",
        "    numeric = pd.to_numeric(no_na)\n",
        "    ge0 = numeric >= 0\n",
        "    return ge0\n",
        "\n",
        "# Check whether the first column is 'Life expectancy'\n",
        "assert g1800s.columns[0] == 'Life expectancy'\n",
        "\n",
        "# Check whether the values in the row are valid\n",
        "assert g1800s.iloc[:, 1:].apply(check_null_or_valid, axis=1).all().all()\n",
        "\n",
        "# Check that there is only one instance of each country\n",
        "assert g1800s['Life expectancy'].value_counts()[0] == 1\n"
      ]
    },
    {
      "cell_type": "markdown",
      "metadata": {
        "id": "-y2LH1HL9FNX"
      },
      "source": [
        "Checking data types"
      ]
    },
    {
      "cell_type": "code",
      "execution_count": null,
      "metadata": {
        "id": "sphKLSYO9FNX",
        "outputId": "0fb39b2a-bf14-4783-d435-589334987d0a"
      },
      "outputs": [
        {
          "name": "stdout",
          "output_type": "stream",
          "text": [
            "<class 'pandas.core.frame.DataFrame'>\n",
            "RangeIndex: 56680 entries, 0 to 56679\n",
            "Data columns (total 3 columns):\n",
            " #   Column           Non-Null Count  Dtype  \n",
            "---  ------           --------------  -----  \n",
            " 0   country          56680 non-null  float64\n",
            " 1   year             56420 non-null  Int64  \n",
            " 2   life_expectancy  20100 non-null  float64\n",
            "dtypes: Int64(1), float64(2)\n",
            "memory usage: 1.4 MB\n",
            "None\n",
            "   country  year  life_expectancy\n",
            "0      0.0  1800              NaN\n",
            "1      1.0  1800            28.21\n",
            "2      2.0  1800              NaN\n",
            "3      3.0  1800            35.40\n",
            "4      4.0  1800            28.82\n"
          ]
        }
      ],
      "source": [
        "# Load the cleaned dataset\n",
        "gapminder = pd.read_csv(r'C:\\Users\\adeolu.adekunle\\OneDrive - Texas A&M AgriLife\\Desktop\\Git-tutorial\\Decision-Science-for-Sustainable-Livestock-Systems_Module-2\\Data Manipulation\\datasets\\gapminder1.csv')\n",
        "\n",
        "# Convert dataset to long format\n",
        "gapminder_long = gapminder.melt(id_vars=[\"Life expectancy\"], var_name=\"year\", value_name=\"life_expectancy\")\n",
        "\n",
        "# Rename columns\n",
        "gapminder_long.rename(columns={\"Life expectancy\": \"country\"}, inplace=True)\n",
        "\n",
        "# Convert year to int and life_expectancy to float\n",
        "gapminder_long[\"year\"] = pd.to_numeric(gapminder_long[\"year\"], errors=\"coerce\").astype(\"Int64\")\n",
        "gapminder_long[\"life_expectancy\"] = pd.to_numeric(gapminder_long[\"life_expectancy\"], errors=\"coerce\").astype(\"float64\")\n",
        "\n",
        "# Save the transformed dataset\n",
        "gapminder_long.to_csv(\"gapminder_long.csv\", index=False)\n",
        "\n",
        "# Verify the transformation\n",
        "print(gapminder_long.info())\n",
        "print(gapminder_long.head())"
      ]
    },
    {
      "cell_type": "markdown",
      "metadata": {
        "id": "LATq4BL49FNX"
      },
      "source": [
        "Data Reshaping"
      ]
    },
    {
      "cell_type": "code",
      "execution_count": null,
      "metadata": {
        "id": "iXcXNpyG9FNX",
        "outputId": "2847d43f-d9dd-4c7d-b8b3-5a39a82e8509"
      },
      "outputs": [
        {
          "name": "stdout",
          "output_type": "stream",
          "text": [
            "                 country        year  life_expectancy\n",
            "0               Abkhazia  Unnamed: 0              0.0\n",
            "1            Afghanistan  Unnamed: 0              1.0\n",
            "2  Akrotiri and Dhekelia  Unnamed: 0              2.0\n",
            "3                Albania  Unnamed: 0              3.0\n",
            "4                Algeria  Unnamed: 0              4.0\n"
          ]
        }
      ],
      "source": [
        "import pandas as pd\n",
        "\n",
        "gapminder1 = pd.read_csv(r'C:\\Users\\adeolu.adekunle\\OneDrive - Texas A&M AgriLife\\Desktop\\Git-tutorial\\Decision-Science-for-Sustainable-Livestock-Systems_Module-2\\Data Manipulation\\datasets\\gapminder.csv')\n",
        "\n",
        "# Melt gapminder: gapminder_melt\n",
        "gapminder1_melt = pd.melt (frame=gapminder1, id_vars='Life expectancy')\n",
        "\n",
        "# Rename the columns\n",
        "gapminder1_melt.columns = ['country','year','life_expectancy']\n",
        "\n",
        "# Print the head of gapminder_melt\n",
        "print(gapminder1_melt.head())"
      ]
    }
  ],
  "metadata": {
    "kernelspec": {
      "display_name": "Adeolujoe",
      "language": "python",
      "name": "python3"
    },
    "language_info": {
      "codemirror_mode": {
        "name": "ipython",
        "version": 3
      },
      "file_extension": ".py",
      "mimetype": "text/x-python",
      "name": "python",
      "nbconvert_exporter": "python",
      "pygments_lexer": "ipython3",
      "version": "3.12.8"
    },
    "colab": {
      "provenance": [],
      "include_colab_link": true
    }
  },
  "nbformat": 4,
  "nbformat_minor": 0
}